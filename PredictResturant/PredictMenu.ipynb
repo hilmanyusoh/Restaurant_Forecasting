{
 "cells": [
  {
   "cell_type": "markdown",
   "metadata": {},
   "source": [
    "1. Load the data:"
   ]
  },
  {
   "cell_type": "code",
   "execution_count": 5,
   "metadata": {},
   "outputs": [],
   "source": [
    "import pandas as pd\n",
    "import matplotlib.pyplot as plt\n",
    "\n",
    "# Load the CSV file into a pandas DataFrame\n",
    "file_path = '/Users/hilmanyusoh/Desktop/Restaurant_Forecasting/Balaji_Fast_Food_Sales.csv'\n",
    " \n",
    "data = pd.read_csv(file_path)"
   ]
  },
  {
   "cell_type": "code",
   "execution_count": 8,
   "metadata": {},
   "outputs": [
    {
     "name": "stdout",
     "output_type": "stream",
     "text": [
      "   order_id        date        item_name  item_type  item_price  quantity  \\\n",
      "0         1  07-03-2022         Aalopuri   Fastfood          20        13   \n",
      "1         2   8/23/2022          Vadapav   Fastfood          20        15   \n",
      "2         3  11/20/2022          Vadapav   Fastfood          20         1   \n",
      "3         4  02-03-2023  Sugarcane juice  Beverages          25         6   \n",
      "4         5  10-02-2022  Sugarcane juice  Beverages          25         8   \n",
      "\n",
      "   transaction_amount transaction_type received_by time_of_sale  \n",
      "0                 260              NaN         Mr.        Night  \n",
      "1                 300             Cash         Mr.    Afternoon  \n",
      "2                  20             Cash         Mr.    Afternoon  \n",
      "3                 150           Online         Mr.        Night  \n",
      "4                 200           Online         Mr.      Evening  \n"
     ]
    }
   ],
   "source": [
    "print(data.head())"
   ]
  },
  {
   "cell_type": "markdown",
   "metadata": {},
   "source": [
    "2. Removing rows with missing values (NaN) from the dataset"
   ]
  },
  {
   "cell_type": "code",
   "execution_count": 97,
   "metadata": {},
   "outputs": [
    {
     "name": "stdout",
     "output_type": "stream",
     "text": [
      "<class 'pandas.core.frame.DataFrame'>\n",
      "Index: 893 entries, 1 to 999\n",
      "Data columns (total 13 columns):\n",
      " #   Column              Non-Null Count  Dtype \n",
      "---  ------              --------------  ----- \n",
      " 0   order_id            893 non-null    int64 \n",
      " 1   date                893 non-null    object\n",
      " 2   item_name           893 non-null    object\n",
      " 3   item_type           893 non-null    object\n",
      " 4   item_price          893 non-null    int64 \n",
      " 5   quantity            893 non-null    int64 \n",
      " 6   transaction_amount  893 non-null    int64 \n",
      " 7   transaction_type    893 non-null    object\n",
      " 8   received_by         893 non-null    object\n",
      " 9   time_of_sale        893 non-null    object\n",
      " 10  day_period          893 non-null    object\n",
      " 11  day_or_night        893 non-null    object\n",
      " 12  sales_by_time       893 non-null    object\n",
      "dtypes: int64(4), object(9)\n",
      "memory usage: 97.7+ KB\n"
     ]
    }
   ],
   "source": [
    "data_cleaned = data.dropna()\n",
    "data_cleaned.info()"
   ]
  },
  {
   "cell_type": "code",
   "execution_count": 98,
   "metadata": {},
   "outputs": [
    {
     "data": {
      "text/html": [
       "<div>\n",
       "<style scoped>\n",
       "    .dataframe tbody tr th:only-of-type {\n",
       "        vertical-align: middle;\n",
       "    }\n",
       "\n",
       "    .dataframe tbody tr th {\n",
       "        vertical-align: top;\n",
       "    }\n",
       "\n",
       "    .dataframe thead th {\n",
       "        text-align: right;\n",
       "    }\n",
       "</style>\n",
       "<table border=\"1\" class=\"dataframe\">\n",
       "  <thead>\n",
       "    <tr style=\"text-align: right;\">\n",
       "      <th></th>\n",
       "      <th>order_id</th>\n",
       "      <th>date</th>\n",
       "      <th>item_name</th>\n",
       "      <th>item_type</th>\n",
       "      <th>item_price</th>\n",
       "      <th>quantity</th>\n",
       "      <th>transaction_amount</th>\n",
       "      <th>transaction_type</th>\n",
       "      <th>received_by</th>\n",
       "      <th>time_of_sale</th>\n",
       "      <th>day_period</th>\n",
       "      <th>day_or_night</th>\n",
       "      <th>sales_by_time</th>\n",
       "    </tr>\n",
       "  </thead>\n",
       "  <tbody>\n",
       "    <tr>\n",
       "      <th>1</th>\n",
       "      <td>2</td>\n",
       "      <td>8/23/2022</td>\n",
       "      <td>Vadapav</td>\n",
       "      <td>Fastfood</td>\n",
       "      <td>20</td>\n",
       "      <td>15</td>\n",
       "      <td>300</td>\n",
       "      <td>Cash</td>\n",
       "      <td>Mr.</td>\n",
       "      <td>Afternoon</td>\n",
       "      <td>Daytime</td>\n",
       "      <td>Daytime</td>\n",
       "      <td>Daytime</td>\n",
       "    </tr>\n",
       "    <tr>\n",
       "      <th>2</th>\n",
       "      <td>3</td>\n",
       "      <td>11/20/2022</td>\n",
       "      <td>Vadapav</td>\n",
       "      <td>Fastfood</td>\n",
       "      <td>20</td>\n",
       "      <td>1</td>\n",
       "      <td>20</td>\n",
       "      <td>Cash</td>\n",
       "      <td>Mr.</td>\n",
       "      <td>Afternoon</td>\n",
       "      <td>Daytime</td>\n",
       "      <td>Daytime</td>\n",
       "      <td>Daytime</td>\n",
       "    </tr>\n",
       "    <tr>\n",
       "      <th>3</th>\n",
       "      <td>4</td>\n",
       "      <td>02-03-2023</td>\n",
       "      <td>Sugarcane juice</td>\n",
       "      <td>Beverages</td>\n",
       "      <td>25</td>\n",
       "      <td>6</td>\n",
       "      <td>150</td>\n",
       "      <td>Online</td>\n",
       "      <td>Mr.</td>\n",
       "      <td>Night</td>\n",
       "      <td>Nighttime</td>\n",
       "      <td>Nighttime</td>\n",
       "      <td>Nighttime</td>\n",
       "    </tr>\n",
       "    <tr>\n",
       "      <th>4</th>\n",
       "      <td>5</td>\n",
       "      <td>10-02-2022</td>\n",
       "      <td>Sugarcane juice</td>\n",
       "      <td>Beverages</td>\n",
       "      <td>25</td>\n",
       "      <td>8</td>\n",
       "      <td>200</td>\n",
       "      <td>Online</td>\n",
       "      <td>Mr.</td>\n",
       "      <td>Evening</td>\n",
       "      <td>Daytime</td>\n",
       "      <td>Nighttime</td>\n",
       "      <td>Daytime</td>\n",
       "    </tr>\n",
       "    <tr>\n",
       "      <th>5</th>\n",
       "      <td>6</td>\n",
       "      <td>11/14/2022</td>\n",
       "      <td>Vadapav</td>\n",
       "      <td>Fastfood</td>\n",
       "      <td>20</td>\n",
       "      <td>10</td>\n",
       "      <td>200</td>\n",
       "      <td>Cash</td>\n",
       "      <td>Mr.</td>\n",
       "      <td>Evening</td>\n",
       "      <td>Daytime</td>\n",
       "      <td>Nighttime</td>\n",
       "      <td>Daytime</td>\n",
       "    </tr>\n",
       "  </tbody>\n",
       "</table>\n",
       "</div>"
      ],
      "text/plain": [
       "   order_id        date        item_name  item_type  item_price  quantity  \\\n",
       "1         2   8/23/2022          Vadapav   Fastfood          20        15   \n",
       "2         3  11/20/2022          Vadapav   Fastfood          20         1   \n",
       "3         4  02-03-2023  Sugarcane juice  Beverages          25         6   \n",
       "4         5  10-02-2022  Sugarcane juice  Beverages          25         8   \n",
       "5         6  11/14/2022          Vadapav   Fastfood          20        10   \n",
       "\n",
       "   transaction_amount transaction_type received_by time_of_sale day_period  \\\n",
       "1                 300             Cash         Mr.    Afternoon    Daytime   \n",
       "2                  20             Cash         Mr.    Afternoon    Daytime   \n",
       "3                 150           Online         Mr.        Night  Nighttime   \n",
       "4                 200           Online         Mr.      Evening    Daytime   \n",
       "5                 200             Cash         Mr.      Evening    Daytime   \n",
       "\n",
       "  day_or_night sales_by_time  \n",
       "1      Daytime       Daytime  \n",
       "2      Daytime       Daytime  \n",
       "3    Nighttime     Nighttime  \n",
       "4    Nighttime       Daytime  \n",
       "5    Nighttime       Daytime  "
      ]
     },
     "execution_count": 98,
     "metadata": {},
     "output_type": "execute_result"
    }
   ],
   "source": [
    "data_cleaned.head()"
   ]
  },
  {
   "cell_type": "markdown",
   "metadata": {},
   "source": [
    "3. Categorizing sales into daytime and nighttime"
   ]
  },
  {
   "cell_type": "code",
   "execution_count": 99,
   "metadata": {},
   "outputs": [],
   "source": [
    "daytime_hours = ['Morning', 'Afternoon']\n",
    "nighttime_hours = ['Evening', 'Night']\n",
    "\n",
    "data['day_or_night'] = data['time_of_sale'].apply(lambda x: 'Daytime' if x in daytime_hours else 'Nighttime')\n",
    "sales_by_time = data.groupby(['day_or_night', 'time_of_sale'])['order_id'].count()\n"
   ]
  },
  {
   "cell_type": "code",
   "execution_count": 100,
   "metadata": {},
   "outputs": [
    {
     "data": {
      "text/plain": [
       "day_or_night  time_of_sale\n",
       "Daytime       Afternoon       205\n",
       "              Morning         190\n",
       "Nighttime     Evening         201\n",
       "              Midnight        199\n",
       "              Night           205\n",
       "Name: order_id, dtype: int64"
      ]
     },
     "execution_count": 100,
     "metadata": {},
     "output_type": "execute_result"
    }
   ],
   "source": [
    "sales_by_time.head() \n"
   ]
  },
  {
   "cell_type": "markdown",
   "metadata": {},
   "source": [
    "4. Group by time and items:"
   ]
  },
  {
   "cell_type": "code",
   "execution_count": 88,
   "metadata": {},
   "outputs": [
    {
     "name": "stdout",
     "output_type": "stream",
     "text": [
      "                                         quantity  item_price\n",
      "sales_by_time item_name       item_type                      \n",
      "Daytime       Cold coffee     Beverages       859          40\n",
      "              Sugarcane juice Beverages       814          25\n",
      "              Panipuri        Fastfood        704          20\n",
      "              Frankie         Fastfood        682          50\n",
      "              Sandwich        Fastfood        604          60\n",
      "              Vadapav         Fastfood        588          20\n",
      "              Aalopuri        Fastfood        577          20\n",
      "Nighttime     Panipuri        Fastfood        522          20\n",
      "              Cold coffee     Beverages       502          40\n",
      "              Sandwich        Fastfood        493          60\n",
      "              Frankie         Fastfood        468          50\n",
      "              Aalopuri        Fastfood        467          20\n",
      "              Sugarcane juice Beverages       464          25\n",
      "              Vadapav         Fastfood        418          20\n"
     ]
    }
   ],
   "source": [
    "# Group by 'day_period' and 'item_name' to find the total quantity sold\n",
    "item_sales = data.groupby(['sales_by_time', 'item_name','item_type']).agg({\n",
    "    'quantity': 'sum',\n",
    "    'item_price': 'max'  # Get the item price\n",
    "}).sort_values(['sales_by_time', 'quantity'], ascending=[True, False])\n",
    "\n",
    "# Display the top-selling items for each period\n",
    "print(item_sales.head(20))\n"
   ]
  },
  {
   "cell_type": "markdown",
   "metadata": {},
   "source": [
    "5. Visualize the data (Optional):\n",
    "  * 5.1 Total Sales Distribution by Time of Sale\n",
    "  * 5.2 Daytime: Menu vs Beverages\n",
    "  * 5.3 Nighttime: Menu vs Beverages"
   ]
  },
  {
   "cell_type": "markdown",
   "metadata": {},
   "source": [
    "5.1 Total Sales Distribution by Time of Sale"
   ]
  },
  {
   "cell_type": "code",
   "execution_count": 112,
   "metadata": {},
   "outputs": [
    {
     "name": "stderr",
     "output_type": "stream",
     "text": [
      "/var/folders/by/j89gc0qj6_zfzkf42sg0dr1c0000gp/T/ipykernel_12762/3196988972.py:9: UserWarning: Matplotlib is currently using agg, which is a non-GUI backend, so cannot show the figure.\n",
      "  plt.show()\n",
      "/var/folders/by/j89gc0qj6_zfzkf42sg0dr1c0000gp/T/ipykernel_12762/3196988972.py:17: UserWarning: Matplotlib is currently using agg, which is a non-GUI backend, so cannot show the figure.\n",
      "  plt.show()\n"
     ]
    }
   ],
   "source": [
    "import matplotlib.pyplot as plt\n",
    "\n",
    "# Plot total sales by time of sale\n",
    "time_sales = data.groupby('time_of_sale')['quantity'].sum()\n",
    "time_sales.plot(kind='bar', color='skyblue')\n",
    "plt.title('Total Sales by Time of Sale')\n",
    "plt.xlabel('Time of Sale')\n",
    "plt.ylabel('Total Quantity Sold')\n",
    "plt.show()\n",
    "\n",
    "# Plot top 5 selling items\n",
    "top_items = item_sales['quantity'].nlargest(5)\n",
    "top_items.plot(kind='bar', color='green')\n",
    "plt.title('Top 5 Selling Items')\n",
    "plt.xlabel('Item Name')\n",
    "plt.ylabel('Quantity Sold')\n",
    "plt.show()\n"
   ]
  },
  {
   "cell_type": "markdown",
   "metadata": {},
   "source": [
    "5.2 Daytime: Menu vs Beverages"
   ]
  },
  {
   "cell_type": "code",
   "execution_count": 111,
   "metadata": {},
   "outputs": [
    {
     "name": "stderr",
     "output_type": "stream",
     "text": [
      "/var/folders/by/j89gc0qj6_zfzkf42sg0dr1c0000gp/T/ipykernel_12762/2697048691.py:14: UserWarning: Matplotlib is currently using agg, which is a non-GUI backend, so cannot show the figure.\n",
      "  plt.show()\n"
     ]
    }
   ],
   "source": [
    "import matplotlib.pyplot as plt\n",
    "\n",
    "# Filter data for Daytime only and separate items into food and beverages\n",
    "daytime_data = data_cleaned[data_cleaned['day_or_night'] == 'Daytime']\n",
    "\n",
    "# Grouping menu items (Fastfood, Beverages) for daytime sales\n",
    "daytime_menu = daytime_data.groupby('item_type')['order_id'].count()\n",
    "\n",
    "# Plotting a pie chart to visualize the distribution of food and beverages during daytime\n",
    "plt.figure(figsize=(7,7))\n",
    "plt.pie(daytime_menu, labels=daytime_menu.index, autopct='%1.1f%%', startangle=140, colors=['#66b3ff','#99ff99'])\n",
    "plt.title('Daytime Sales Distribution: Menu vs Beverages')\n",
    "plt.axis('equal')  # Equal aspect ratio ensures the pie chart is circular.\n",
    "plt.show()\n"
   ]
  },
  {
   "cell_type": "code",
   "execution_count": 113,
   "metadata": {},
   "outputs": [
    {
     "name": "stderr",
     "output_type": "stream",
     "text": [
      "/var/folders/by/j89gc0qj6_zfzkf42sg0dr1c0000gp/T/ipykernel_12762/2345908282.py:8: UserWarning: Matplotlib is currently using agg, which is a non-GUI backend, so cannot show the figure.\n",
      "  plt.show()\n",
      "/var/folders/by/j89gc0qj6_zfzkf42sg0dr1c0000gp/T/ipykernel_12762/2345908282.py:25: UserWarning: Matplotlib is currently using agg, which is a non-GUI backend, so cannot show the figure.\n",
      "  plt.show()\n"
     ]
    }
   ],
   "source": [
    "daytime_data = data_cleaned[data_cleaned['day_or_night'] == 'Daytime']\n",
    "daytime_menu = daytime_data.groupby('item_type')['order_id'].count()\n",
    "\n",
    "plt.figure(figsize=(3,3))\n",
    "plt.pie(daytime_menu, labels=daytime_menu.index, autopct='%1.1f%%', startangle=140, colors=['#66b3ff','#99ff99'])\n",
    "plt.title('Daytime: Menu vs Beverages')\n",
    "plt.axis('equal') \n",
    "plt.show()\n",
    "\n",
    "\n",
    "# Filter data for Daytime only\n",
    "daytime_data = data_cleaned[data_cleaned['day_or_night'] == 'Daytime']\n",
    "\n",
    "# Grouping menu items for daytime sales\n",
    "daytime_menu_sales = daytime_data.groupby('item_name')['order_id'].count().sort_values(ascending=False)\n",
    "\n",
    "# Plotting a bar chart to visualize the menu items and beverages sold during daytime\n",
    "plt.figure(figsize=(10,6))\n",
    "plt.bar(daytime_menu_sales.index, daytime_menu_sales.values, color='skyblue')\n",
    "plt.xticks(rotation=90)\n",
    "plt.title('Daytime Sales: Menu Items and Beverages')\n",
    "plt.xlabel('Item Name')\n",
    "plt.ylabel('Number of Sales')\n",
    "plt.tight_layout()  # Adjusts the plot to ensure labels fit well\n",
    "plt.show()\n",
    "\n",
    "\n"
   ]
  },
  {
   "cell_type": "markdown",
   "metadata": {},
   "source": [
    "5.3 Nighttime: Menu vs Beverages"
   ]
  },
  {
   "cell_type": "code",
   "execution_count": 95,
   "metadata": {},
   "outputs": [
    {
     "data": {
      "image/png": "[encoded data removed]",
      "text/plain": [
       "<Figure size 300x300 with 1 Axes>"
      ]
     },
     "metadata": {},
     "output_type": "display_data"
    }
   ],
   "source": [
    "nighttime_data = data_cleaned[data_cleaned['day_or_night'] == 'Nighttime']\n",
    "nighttime_menu = nighttime_data.groupby('item_type')['order_id'].count()\n",
    "\n",
    "plt.figure(figsize=(3,3))\n",
    "plt.pie(nighttime_menu, labels=nighttime_menu.index, autopct='%1.1f%%', startangle=140, colors=['#66b3ff','#99ff99'])\n",
    "plt.title('Nighttime: Menu vs Beverages')\n",
    "plt.axis('equal') \n",
    "plt.show()\n",
    "\n"
   ]
  },
  {
   "cell_type": "markdown",
   "metadata": {},
   "source": []
  },
  {
   "cell_type": "code",
   "execution_count": null,
   "metadata": {},
   "outputs": [],
   "source": []
  }
 ],
 "metadata": {
  "kernelspec": {
   "display_name": "base",
   "language": "python",
   "name": "python3"
  },
  "language_info": {
   "codemirror_mode": {
    "name": "ipython",
    "version": 3
   },
   "file_extension": ".py",
   "mimetype": "text/x-python",
   "name": "python",
   "nbconvert_exporter": "python",
   "pygments_lexer": "ipython3",
   "version": "3.11.5"
  }
 },
 "nbformat": 4,
 "nbformat_minor": 2
}
