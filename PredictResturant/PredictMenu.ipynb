{
 "cells": [
  {
   "cell_type": "markdown",
   "metadata": {},
   "source": [
    "# 1. Load the data:"
   ]
  },
  {
   "cell_type": "code",
   "execution_count": 79,
   "metadata": {},
   "outputs": [],
   "source": [
    "import pandas as pd\n",
    "import matplotlib.pyplot as plt\n",
    "\n",
    "# Load the CSV file into a pandas DataFrame\n",
    "file_path = '/Users/hilmanyusoh/Desktop/Restaurant_Forecasting/Balaji_Fast_Food_Sales.csv'\n",
    " \n",
    "data = pd.read_csv(file_path)"
   ]
  },
  {
   "cell_type": "code",
   "execution_count": 80,
   "metadata": {},
   "outputs": [
    {
     "name": "stdout",
     "output_type": "stream",
     "text": [
      "   order_id        date        item_name  item_type  item_price  quantity  \\\n",
      "0         1  07-03-2022         Aalopuri   Fastfood          20        13   \n",
      "1         2   8/23/2022          Vadapav   Fastfood          20        15   \n",
      "2         3  11/20/2022          Vadapav   Fastfood          20         1   \n",
      "3         4  02-03-2023  Sugarcane juice  Beverages          25         6   \n",
      "4         5  10-02-2022  Sugarcane juice  Beverages          25         8   \n",
      "\n",
      "   transaction_amount transaction_type received_by time_of_sale  \n",
      "0                 260              NaN         Mr.        Night  \n",
      "1                 300             Cash         Mr.    Afternoon  \n",
      "2                  20             Cash         Mr.    Afternoon  \n",
      "3                 150           Online         Mr.        Night  \n",
      "4                 200           Online         Mr.      Evening  \n"
     ]
    }
   ],
   "source": [
    "print(data.head())"
   ]
  },
  {
   "cell_type": "code",
   "execution_count": 90,
   "metadata": {},
   "outputs": [
    {
     "data": {
      "text/html": [
       "<div>\n",
       "<style scoped>\n",
       "    .dataframe tbody tr th:only-of-type {\n",
       "        vertical-align: middle;\n",
       "    }\n",
       "\n",
       "    .dataframe tbody tr th {\n",
       "        vertical-align: top;\n",
       "    }\n",
       "\n",
       "    .dataframe thead th {\n",
       "        text-align: right;\n",
       "    }\n",
       "</style>\n",
       "<table border=\"1\" class=\"dataframe\">\n",
       "  <thead>\n",
       "    <tr style=\"text-align: right;\">\n",
       "      <th></th>\n",
       "      <th>order_id</th>\n",
       "      <th>item_price</th>\n",
       "      <th>quantity</th>\n",
       "      <th>transaction_amount</th>\n",
       "    </tr>\n",
       "  </thead>\n",
       "  <tbody>\n",
       "    <tr>\n",
       "      <th>count</th>\n",
       "      <td>1000.000000</td>\n",
       "      <td>1000.000000</td>\n",
       "      <td>1000.000000</td>\n",
       "      <td>1000.000000</td>\n",
       "    </tr>\n",
       "    <tr>\n",
       "      <th>mean</th>\n",
       "      <td>500.500000</td>\n",
       "      <td>33.315000</td>\n",
       "      <td>8.162000</td>\n",
       "      <td>275.230000</td>\n",
       "    </tr>\n",
       "    <tr>\n",
       "      <th>std</th>\n",
       "      <td>288.819436</td>\n",
       "      <td>14.921744</td>\n",
       "      <td>4.413075</td>\n",
       "      <td>204.402979</td>\n",
       "    </tr>\n",
       "    <tr>\n",
       "      <th>min</th>\n",
       "      <td>1.000000</td>\n",
       "      <td>20.000000</td>\n",
       "      <td>1.000000</td>\n",
       "      <td>20.000000</td>\n",
       "    </tr>\n",
       "    <tr>\n",
       "      <th>25%</th>\n",
       "      <td>250.750000</td>\n",
       "      <td>20.000000</td>\n",
       "      <td>4.000000</td>\n",
       "      <td>120.000000</td>\n",
       "    </tr>\n",
       "    <tr>\n",
       "      <th>50%</th>\n",
       "      <td>500.500000</td>\n",
       "      <td>25.000000</td>\n",
       "      <td>8.000000</td>\n",
       "      <td>240.000000</td>\n",
       "    </tr>\n",
       "    <tr>\n",
       "      <th>75%</th>\n",
       "      <td>750.250000</td>\n",
       "      <td>50.000000</td>\n",
       "      <td>12.000000</td>\n",
       "      <td>360.000000</td>\n",
       "    </tr>\n",
       "    <tr>\n",
       "      <th>max</th>\n",
       "      <td>1000.000000</td>\n",
       "      <td>60.000000</td>\n",
       "      <td>15.000000</td>\n",
       "      <td>900.000000</td>\n",
       "    </tr>\n",
       "  </tbody>\n",
       "</table>\n",
       "</div>"
      ],
      "text/plain": [
       "          order_id   item_price     quantity  transaction_amount\n",
       "count  1000.000000  1000.000000  1000.000000         1000.000000\n",
       "mean    500.500000    33.315000     8.162000          275.230000\n",
       "std     288.819436    14.921744     4.413075          204.402979\n",
       "min       1.000000    20.000000     1.000000           20.000000\n",
       "25%     250.750000    20.000000     4.000000          120.000000\n",
       "50%     500.500000    25.000000     8.000000          240.000000\n",
       "75%     750.250000    50.000000    12.000000          360.000000\n",
       "max    1000.000000    60.000000    15.000000          900.000000"
      ]
     },
     "execution_count": 90,
     "metadata": {},
     "output_type": "execute_result"
    }
   ],
   "source": [
    "data.describe()"
   ]
  },
  {
   "cell_type": "markdown",
   "metadata": {},
   "source": [
    "# 2. Removing rows with missing values (NaN) from the dataset"
   ]
  },
  {
   "cell_type": "code",
   "execution_count": 81,
   "metadata": {},
   "outputs": [
    {
     "name": "stdout",
     "output_type": "stream",
     "text": [
      "<class 'pandas.core.frame.DataFrame'>\n",
      "Index: 893 entries, 1 to 999\n",
      "Data columns (total 10 columns):\n",
      " #   Column              Non-Null Count  Dtype \n",
      "---  ------              --------------  ----- \n",
      " 0   order_id            893 non-null    int64 \n",
      " 1   date                893 non-null    object\n",
      " 2   item_name           893 non-null    object\n",
      " 3   item_type           893 non-null    object\n",
      " 4   item_price          893 non-null    int64 \n",
      " 5   quantity            893 non-null    int64 \n",
      " 6   transaction_amount  893 non-null    int64 \n",
      " 7   transaction_type    893 non-null    object\n",
      " 8   received_by         893 non-null    object\n",
      " 9   time_of_sale        893 non-null    object\n",
      "dtypes: int64(4), object(6)\n",
      "memory usage: 76.7+ KB\n"
     ]
    }
   ],
   "source": [
    "data_cleaned = data.dropna()\n",
    "data_cleaned.info()"
   ]
  },
  {
   "cell_type": "code",
   "execution_count": 82,
   "metadata": {},
   "outputs": [
    {
     "data": {
      "text/html": [
       "<div>\n",
       "<style scoped>\n",
       "    .dataframe tbody tr th:only-of-type {\n",
       "        vertical-align: middle;\n",
       "    }\n",
       "\n",
       "    .dataframe tbody tr th {\n",
       "        vertical-align: top;\n",
       "    }\n",
       "\n",
       "    .dataframe thead th {\n",
       "        text-align: right;\n",
       "    }\n",
       "</style>\n",
       "<table border=\"1\" class=\"dataframe\">\n",
       "  <thead>\n",
       "    <tr style=\"text-align: right;\">\n",
       "      <th></th>\n",
       "      <th>order_id</th>\n",
       "      <th>date</th>\n",
       "      <th>item_name</th>\n",
       "      <th>item_type</th>\n",
       "      <th>item_price</th>\n",
       "      <th>quantity</th>\n",
       "      <th>transaction_amount</th>\n",
       "      <th>transaction_type</th>\n",
       "      <th>received_by</th>\n",
       "      <th>time_of_sale</th>\n",
       "    </tr>\n",
       "  </thead>\n",
       "  <tbody>\n",
       "    <tr>\n",
       "      <th>1</th>\n",
       "      <td>2</td>\n",
       "      <td>8/23/2022</td>\n",
       "      <td>Vadapav</td>\n",
       "      <td>Fastfood</td>\n",
       "      <td>20</td>\n",
       "      <td>15</td>\n",
       "      <td>300</td>\n",
       "      <td>Cash</td>\n",
       "      <td>Mr.</td>\n",
       "      <td>Afternoon</td>\n",
       "    </tr>\n",
       "    <tr>\n",
       "      <th>2</th>\n",
       "      <td>3</td>\n",
       "      <td>11/20/2022</td>\n",
       "      <td>Vadapav</td>\n",
       "      <td>Fastfood</td>\n",
       "      <td>20</td>\n",
       "      <td>1</td>\n",
       "      <td>20</td>\n",
       "      <td>Cash</td>\n",
       "      <td>Mr.</td>\n",
       "      <td>Afternoon</td>\n",
       "    </tr>\n",
       "    <tr>\n",
       "      <th>3</th>\n",
       "      <td>4</td>\n",
       "      <td>02-03-2023</td>\n",
       "      <td>Sugarcane juice</td>\n",
       "      <td>Beverages</td>\n",
       "      <td>25</td>\n",
       "      <td>6</td>\n",
       "      <td>150</td>\n",
       "      <td>Online</td>\n",
       "      <td>Mr.</td>\n",
       "      <td>Night</td>\n",
       "    </tr>\n",
       "    <tr>\n",
       "      <th>4</th>\n",
       "      <td>5</td>\n",
       "      <td>10-02-2022</td>\n",
       "      <td>Sugarcane juice</td>\n",
       "      <td>Beverages</td>\n",
       "      <td>25</td>\n",
       "      <td>8</td>\n",
       "      <td>200</td>\n",
       "      <td>Online</td>\n",
       "      <td>Mr.</td>\n",
       "      <td>Evening</td>\n",
       "    </tr>\n",
       "    <tr>\n",
       "      <th>5</th>\n",
       "      <td>6</td>\n",
       "      <td>11/14/2022</td>\n",
       "      <td>Vadapav</td>\n",
       "      <td>Fastfood</td>\n",
       "      <td>20</td>\n",
       "      <td>10</td>\n",
       "      <td>200</td>\n",
       "      <td>Cash</td>\n",
       "      <td>Mr.</td>\n",
       "      <td>Evening</td>\n",
       "    </tr>\n",
       "  </tbody>\n",
       "</table>\n",
       "</div>"
      ],
      "text/plain": [
       "   order_id        date        item_name  item_type  item_price  quantity  \\\n",
       "1         2   8/23/2022          Vadapav   Fastfood          20        15   \n",
       "2         3  11/20/2022          Vadapav   Fastfood          20         1   \n",
       "3         4  02-03-2023  Sugarcane juice  Beverages          25         6   \n",
       "4         5  10-02-2022  Sugarcane juice  Beverages          25         8   \n",
       "5         6  11/14/2022          Vadapav   Fastfood          20        10   \n",
       "\n",
       "   transaction_amount transaction_type received_by time_of_sale  \n",
       "1                 300             Cash         Mr.    Afternoon  \n",
       "2                  20             Cash         Mr.    Afternoon  \n",
       "3                 150           Online         Mr.        Night  \n",
       "4                 200           Online         Mr.      Evening  \n",
       "5                 200             Cash         Mr.      Evening  "
      ]
     },
     "execution_count": 82,
     "metadata": {},
     "output_type": "execute_result"
    }
   ],
   "source": [
    "data_cleaned.head()"
   ]
  },
  {
   "cell_type": "markdown",
   "metadata": {},
   "source": [
    "# 3. Categorizing sales into daytime and nighttime"
   ]
  },
  {
   "cell_type": "code",
   "execution_count": 83,
   "metadata": {},
   "outputs": [],
   "source": [
    "daytime = ['Morning', 'Afternoon', 'Evening']\n",
    "nighttime = ['Night']\n",
    "\n",
    "data['sales_by_time'] = data['time_of_sale'].apply(lambda x: 'Daytime' if x in daytime else 'Nighttime')"
   ]
  },
  {
   "cell_type": "code",
   "execution_count": 84,
   "metadata": {},
   "outputs": [
    {
     "data": {
      "text/plain": [
       "day_or_night  time_of_sale\n",
       "Daytime       Afternoon       205\n",
       "              Morning         190\n",
       "Nighttime     Evening         201\n",
       "              Midnight        199\n",
       "              Night           205\n",
       "Name: order_id, dtype: int64"
      ]
     },
     "execution_count": 84,
     "metadata": {},
     "output_type": "execute_result"
    }
   ],
   "source": [
    "daytime_hours = ['Morning', 'Afternoon']\n",
    "nighttime_hours = ['Evening', 'Night']\n",
    "\n",
    "data['day_or_night'] = data['time_of_sale'].apply(lambda x: 'Daytime' if x in daytime_hours else 'Nighttime')\n",
    "\n",
    "sales_by_time = data.groupby(['day_or_night', 'time_of_sale'])['order_id'].count()\n",
    "\n",
    "sales_by_time.head()\n",
    "\n"
   ]
  },
  {
   "cell_type": "markdown",
   "metadata": {},
   "source": [
    "# 4. Group by time and items:"
   ]
  },
  {
   "cell_type": "code",
   "execution_count": 85,
   "metadata": {},
   "outputs": [
    {
     "name": "stdout",
     "output_type": "stream",
     "text": [
      "                                         quantity  item_price\n",
      "sales_by_time item_name       item_type                      \n",
      "Daytime       Cold coffee     Beverages       859          40\n",
      "              Sugarcane juice Beverages       814          25\n",
      "              Panipuri        Fastfood        704          20\n",
      "              Frankie         Fastfood        682          50\n",
      "              Sandwich        Fastfood        604          60\n",
      "              Vadapav         Fastfood        588          20\n",
      "              Aalopuri        Fastfood        577          20\n",
      "Nighttime     Panipuri        Fastfood        522          20\n",
      "              Cold coffee     Beverages       502          40\n",
      "              Sandwich        Fastfood        493          60\n",
      "              Frankie         Fastfood        468          50\n",
      "              Aalopuri        Fastfood        467          20\n",
      "              Sugarcane juice Beverages       464          25\n",
      "              Vadapav         Fastfood        418          20\n"
     ]
    }
   ],
   "source": [
    "item_sales = data.groupby(['sales_by_time', 'item_name', 'item_type']).agg({\n",
    "    'quantity': 'sum',      \n",
    "    'item_price': 'max'     \n",
    "}).sort_values(['sales_by_time', 'quantity'], ascending=[True, False])\n",
    "\n",
    "print(item_sales.head(20)) \n"
   ]
  },
  {
   "cell_type": "markdown",
   "metadata": {},
   "source": [
    "## 5. Visualize the data (Optional):\n",
    "  * 5.1 Total Sales Distribution by Time of Sale\n",
    "  * 5.2 Daytime: Menu vs Beverages\n",
    "  * 5.3 Nighttime: Menu vs Beverages"
   ]
  },
  {
   "cell_type": "markdown",
   "metadata": {},
   "source": [
    "5.1 Total Sales Distribution by Time of Sale"
   ]
  },
  {
   "cell_type": "code",
   "execution_count": 86,
   "metadata": {},
   "outputs": [
    {
     "name": "stderr",
     "output_type": "stream",
     "text": [
      "/var/folders/by/j89gc0qj6_zfzkf42sg0dr1c0000gp/T/ipykernel_25993/3505240901.py:2: SettingWithCopyWarning: \n",
      "A value is trying to be set on a copy of a slice from a DataFrame.\n",
      "Try using .loc[row_indexer,col_indexer] = value instead\n",
      "\n",
      "See the caveats in the documentation: https://pandas.pydata.org/pandas-docs/stable/user_guide/indexing.html#returning-a-view-versus-a-copy\n",
      "  data_cleaned['day_or_night'] = data_cleaned['time_of_sale'].apply(lambda x: 'Daytime' if x in daytime else 'Nighttime')\n"
     ]
    },
    {
     "data": {
      "image/png": "[encoded data removed]",
      "text/plain": [
       "<Figure size 300x300 with 1 Axes>"
      ]
     },
     "metadata": {},
     "output_type": "display_data"
    }
   ],
   "source": [
    "daytime_hours = ['Daytime', 'Nighttime']\n",
    "data_cleaned['day_or_night'] = data_cleaned['time_of_sale'].apply(lambda x: 'Daytime' if x in daytime else 'Nighttime')\n",
    "\n",
    "day_night_sales = data_cleaned.groupby('day_or_night')['quantity'].sum()\n",
    "\n",
    "plt.figure(figsize=(3, 3))\n",
    "plt.pie(day_night_sales, labels=day_night_sales.index, autopct='%1.1f%%', colors=['#ffcc99', '#99ccff'])\n",
    "plt.title('Total Sales by Daytime and Nighttime')\n",
    "plt.show()\n",
    "\n",
    "\n"
   ]
  },
  {
   "cell_type": "markdown",
   "metadata": {},
   "source": [
    "5.2 Daytime: Menu vs Beverages"
   ]
  },
  {
   "cell_type": "code",
   "execution_count": 87,
   "metadata": {},
   "outputs": [
    {
     "name": "stderr",
     "output_type": "stream",
     "text": [
      "/var/folders/by/j89gc0qj6_zfzkf42sg0dr1c0000gp/T/ipykernel_25993/2803105933.py:2: SettingWithCopyWarning: \n",
      "A value is trying to be set on a copy of a slice from a DataFrame.\n",
      "Try using .loc[row_indexer,col_indexer] = value instead\n",
      "\n",
      "See the caveats in the documentation: https://pandas.pydata.org/pandas-docs/stable/user_guide/indexing.html#returning-a-view-versus-a-copy\n",
      "  data_cleaned['day_or_night'] = data_cleaned['time_of_sale'].apply(lambda x: 'Daytime' if x in daytime_hours else 'Nighttime')\n"
     ]
    },
    {
     "data": {
      "image/png": "[encoded data removed]",
      "text/plain": [
       "<Figure size 300x300 with 1 Axes>"
      ]
     },
     "metadata": {},
     "output_type": "display_data"
    }
   ],
   "source": [
    "daytime_hours = ['Morning', 'Afternoon']\n",
    "data_cleaned['day_or_night'] = data_cleaned['time_of_sale'].apply(lambda x: 'Daytime' if x in daytime_hours else 'Nighttime')\n",
    "\n",
    "daytime_sales = data_cleaned[data_cleaned['day_or_night'] == 'Daytime']\n",
    "daytime_menu_vs_beverages = daytime_sales.groupby('item_type')['quantity'].sum()\n",
    "\n",
    "plt.figure(figsize=(3, 3))\n",
    "plt.pie(daytime_menu_vs_beverages, labels=daytime_menu_vs_beverages.index, autopct='%1.1f%%', colors=['#ff9999','#66b3ff'])\n",
    "plt.title('Daytime: Fastfood vs Beverages')\n",
    "plt.show()"
   ]
  },
  {
   "cell_type": "markdown",
   "metadata": {},
   "source": [
    "5.3 Nighttime: Menu vs Beverages"
   ]
  },
  {
   "cell_type": "code",
   "execution_count": 88,
   "metadata": {},
   "outputs": [
    {
     "name": "stderr",
     "output_type": "stream",
     "text": [
      "/var/folders/by/j89gc0qj6_zfzkf42sg0dr1c0000gp/T/ipykernel_25993/1513033202.py:2: SettingWithCopyWarning: \n",
      "A value is trying to be set on a copy of a slice from a DataFrame.\n",
      "Try using .loc[row_indexer,col_indexer] = value instead\n",
      "\n",
      "See the caveats in the documentation: https://pandas.pydata.org/pandas-docs/stable/user_guide/indexing.html#returning-a-view-versus-a-copy\n",
      "  data_cleaned['day_or_night'] = data_cleaned['time_of_sale'].apply(lambda x: 'Nighttime' if x in nighttime_hours else 'Daytime')\n"
     ]
    },
    {
     "data": {
      "image/png": "[encoded data removed]",
      "text/plain": [
       "<Figure size 300x300 with 1 Axes>"
      ]
     },
     "metadata": {},
     "output_type": "display_data"
    }
   ],
   "source": [
    "nighttime_hours = ['Evening', 'Midnight','Night']\n",
    "data_cleaned['day_or_night'] = data_cleaned['time_of_sale'].apply(lambda x: 'Nighttime' if x in nighttime_hours else 'Daytime')\n",
    "nighttime_sales = data_cleaned[data_cleaned['day_or_night'] == 'Nighttime']\n",
    "\n",
    "nighttime_menu_vs_beverages = nighttime_sales.groupby('item_type')['quantity'].sum()\n",
    "\n",
    "plt.figure(figsize=(3, 3))\n",
    "plt.pie(nighttime_menu_vs_beverages, labels=nighttime_menu_vs_beverages.index, autopct='%1.1f%%', colors=['#ff9999','#66b3ff'])\n",
    "plt.title('Nighttime: Fastfood vs Beverages')\n",
    "plt.show()\n",
    "\n"
   ]
  },
  {
   "cell_type": "code",
   "execution_count": 95,
   "metadata": {},
   "outputs": [
    {
     "data": {
      "image/png": "[encoded data removed]",
      "text/plain": [
       "<Figure size 800x300 with 1 Axes>"
      ]
     },
     "metadata": {},
     "output_type": "display_data"
    }
   ],
   "source": [
    "total_sales_by_item = data.groupby('item_name')['transaction_amount'].sum().sort_values()\n",
    "\n",
    "plt.figure(figsize= (8 ,3))\n",
    "total_sales_by_item.plot(kind='bar', color='skyblue')\n",
    "plt.title('Tatal sales by item')\n",
    "plt.xlabel('Item name')\n",
    "plt.ylabel('Tatal sales by item')\n",
    "plt.show()"
   ]
  }
 ],
 "metadata": {
  "kernelspec": {
   "display_name": "base",
   "language": "python",
   "name": "python3"
  },
  "language_info": {
   "codemirror_mode": {
    "name": "ipython",
    "version": 3
   },
   "file_extension": ".py",
   "mimetype": "text/x-python",
   "name": "python",
   "nbconvert_exporter": "python",
   "pygments_lexer": "ipython3",
   "version": "3.11.5"
  }
 },
 "nbformat": 4,
 "nbformat_minor": 2
}
