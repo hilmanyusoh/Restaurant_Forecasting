{
 "cells": [
  {
   "cell_type": "code",
   "execution_count": 5,
   "metadata": {},
   "outputs": [],
   "source": [
    "import pandas as pd\n",
    "\n",
    "# Load the CSV file into a pandas DataFrame\n",
    "file_path = '/Users/hilmanyusoh/Desktop/Restaurant_Forecasting/Balaji_Fast_Food_Sales.csv'\n",
    " \n",
    "data = pd.read_csv(file_path)"
   ]
  },
  {
   "cell_type": "code",
   "execution_count": 6,
   "metadata": {},
   "outputs": [
    {
     "name": "stdout",
     "output_type": "stream",
     "text": [
      "   order_id        date        item_name  item_type  item_price  quantity  \\\n",
      "0         1  07-03-2022         Aalopuri   Fastfood          20        13   \n",
      "1         2   8/23/2022          Vadapav   Fastfood          20        15   \n",
      "2         3  11/20/2022          Vadapav   Fastfood          20         1   \n",
      "3         4  02-03-2023  Sugarcane juice  Beverages          25         6   \n",
      "4         5  10-02-2022  Sugarcane juice  Beverages          25         8   \n",
      "\n",
      "   transaction_amount transaction_type received_by time_of_sale  \n",
      "0                 260              NaN         Mr.        Night  \n",
      "1                 300             Cash         Mr.    Afternoon  \n",
      "2                  20             Cash         Mr.    Afternoon  \n",
      "3                 150           Online         Mr.        Night  \n",
      "4                 200           Online         Mr.      Evening  \n"
     ]
    }
   ],
   "source": [
    "print(data.head())\n"
   ]
  },
  {
   "cell_type": "code",
   "execution_count": null,
   "metadata": {},
   "outputs": [],
   "source": []
  }
 ],
 "metadata": {
  "kernelspec": {
   "display_name": "base",
   "language": "python",
   "name": "python3"
  },
  "language_info": {
   "codemirror_mode": {
    "name": "ipython",
    "version": 3
   },
   "file_extension": ".py",
   "mimetype": "text/x-python",
   "name": "python",
   "nbconvert_exporter": "python",
   "pygments_lexer": "ipython3",
   "version": "3.11.5"
  }
 },
 "nbformat": 4,
 "nbformat_minor": 2
}
